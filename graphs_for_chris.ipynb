{
 "cells": [
  {
   "cell_type": "code",
   "execution_count": 2,
   "metadata": {},
   "outputs": [],
   "source": [
    "from sage.graphs.trees import TreeIterator"
   ]
  },
  {
   "cell_type": "code",
   "execution_count": 1,
   "metadata": {},
   "outputs": [],
   "source": [
    "T = []"
   ]
  },
  {
   "cell_type": "code",
   "execution_count": 12,
   "metadata": {},
   "outputs": [],
   "source": [
    "def isomorphic_test(X, n, cnt):\n",
    "    phi_X = X.charpoly()\n",
    "    phi = []\n",
    "    matrices = []\n",
    "    \n",
    "    # precompute the characteristic polynomial\n",
    "    for a in range(n):\n",
    "        X_a = (X.delete_rows([a])).delete_columns([a])\n",
    "        phi.append(X_a.charpoly())   \n",
    "        matrices.append(X_a);\n",
    "            \n",
    "    # compute set of cospectral vertices with a given vertex\n",
    "    for a in range(n):\n",
    "        for b in range(a+1, n):\n",
    "            if(phi[a]!=phi[b]): continue  # a and b are not cospectral \n",
    "                \n",
    "            X_ab = X.delete_rows([a, b]).delete_columns([a, b])\n",
    "            phi_ab = X_ab.charpoly()\n",
    "\n",
    "            g = phi_X.gcd(phi_ab)\n",
    "            f = phi_X / g\n",
    "            f1 = f.derivative(x)\n",
    "\n",
    "            val = f.gcd(f1)\n",
    "\n",
    "            if val.derivative() != 0: continue  # a and b are not parallel\n",
    "            \n",
    "            G_a = Graph(matrices[a])\n",
    "            G_b = Graph(matrices[b])\n",
    "            \n",
    "            if(G_a.is_isomorphic(G_b)): continue  # G\\a ~ G\\b\n",
    "\n",
    "            # Verify if phi(T1) / phi(T1 + a) = phi(T2) / phi(T2 + b)            \n",
    "            G = Graph(X)\n",
    "                \n",
    "            not_in_T1a = []\n",
    "            for c in range(n):\n",
    "                if (G.distance(a, c) > G.distance(b, c) or G.distance(b, c) < G.distance(b, a)):\n",
    "                    not_in_T1a.append(c)\n",
    "            T1a = X.delete_rows(not_in_T1a).delete_columns(not_in_T1a)\n",
    "\n",
    "            not_in_T2b = []\n",
    "            for c in range(n):\n",
    "                if (G.distance(b, c) > G.distance(a, c) or G.distance(a, c) < G.distance(a, b)):\n",
    "                    not_in_T2b.append(c)\n",
    "            T2b = X.delete_rows(not_in_T2b).delete_columns(not_in_T2b)\n",
    "            \n",
    "            T1 = X.delete_rows(not_in_T1a + [a]).delete_columns(not_in_T1a + [a])\n",
    "            T2 = X.delete_rows(not_in_T2b + [b]).delete_columns(not_in_T2b + [b])\n",
    "            \n",
    "            equal_ratio = False\n",
    "            if (T1.charpoly() * T2b.charpoly() == T2.charpoly() * T1a.charpoly()):\n",
    "                equal_ratio = True\n",
    "            \n",
    "            # Save things \n",
    "            print(f\"At graph {cnt}, G\\\\{a} is not isomorphic to G\\\\{b}, ratio satisfied = {equal_ratio}\")\n",
    "            \n",
    "            T.append((Graph(X), a, b, equal_ratio))\n",
    "\n",
    "            if not equal_ratio:\n",
    "                P = Graph(X).plot(title=f'Vertices {a} and {b} are strongly cospectral')\n",
    "                P.save(f\"data/examples_for_chris/tree_{len(T)}_vts_{n}.png\")\n",
    "            else:\n",
    "                P = Graph(X).plot(title=f'Equal Ratio phi(T1) / phi(T1 + a) = phi(T2) / phi(T2 + b) - Vertices {a} and {b} are strongly cospectral')\n",
    "                P.save(f\"data/examples_for_chris/equal_ratio_tree_{len(T)}_vts_{n}.png\")                \n",
    "            "
   ]
  },
  {
   "cell_type": "code",
   "execution_count": 16,
   "metadata": {},
   "outputs": [
    {
     "name": "stdout",
     "output_type": "stream",
     "text": [
      "Trying graphs with 9 vertices\n",
      "At graph 3, G\\1 is not isomorphic to G\\6, ratio satisfied = False\n",
      "Trying graphs with 10 vertices\n",
      "Trying graphs with 11 vertices\n",
      "At graph 40, G\\1 is not isomorphic to G\\7, ratio satisfied = False\n",
      "Trying graphs with 12 vertices\n",
      "At graph 5, G\\4 is not isomorphic to G\\7, ratio satisfied = False\n",
      "At graph 61, G\\1 is not isomorphic to G\\10, ratio satisfied = False\n",
      "At graph 101, G\\0 is not isomorphic to G\\3, ratio satisfied = False\n",
      "At graph 331, G\\0 is not isomorphic to G\\1, ratio satisfied = True\n",
      "Trying graphs with 13 vertices\n",
      "At graph 36, G\\4 is not isomorphic to G\\8, ratio satisfied = False\n",
      "At graph 43, G\\1 is not isomorphic to G\\9, ratio satisfied = False\n",
      "At graph 220, G\\0 is not isomorphic to G\\2, ratio satisfied = True\n",
      "At graph 414, G\\2 is not isomorphic to G\\7, ratio satisfied = False\n",
      "At graph 414, G\\3 is not isomorphic to G\\11, ratio satisfied = True\n",
      "At graph 414, G\\4 is not isomorphic to G\\12, ratio satisfied = True\n",
      "At graph 531, G\\1 is not isomorphic to G\\8, ratio satisfied = False\n",
      "At graph 658, G\\1 is not isomorphic to G\\6, ratio satisfied = False\n",
      "Trying graphs with 14 vertices\n",
      "At graph 72, G\\2 is not isomorphic to G\\10, ratio satisfied = False\n",
      "At graph 180, G\\4 is not isomorphic to G\\9, ratio satisfied = False\n",
      "At graph 238, G\\0 is not isomorphic to G\\3, ratio satisfied = False\n",
      "At graph 239, G\\3 is not isomorphic to G\\8, ratio satisfied = False\n",
      "At graph 462, G\\2 is not isomorphic to G\\8, ratio satisfied = False\n",
      "At graph 771, G\\0 is not isomorphic to G\\1, ratio satisfied = True\n",
      "At graph 771, G\\2 is not isomorphic to G\\7, ratio satisfied = True\n",
      "At graph 1138, G\\1 is not isomorphic to G\\9, ratio satisfied = False\n",
      "At graph 1552, G\\1 is not isomorphic to G\\8, ratio satisfied = True\n",
      "At graph 2531, G\\0 is not isomorphic to G\\1, ratio satisfied = True\n"
     ]
    }
   ],
   "source": [
    "n = 9\n",
    "r = 6\n",
    "T = []\n",
    "for i in range(n, n+r):\n",
    "    print(f\"Trying graphs with {i} vertices\")\n",
    "    cnt = 0\n",
    "    for t in TreeIterator(i):\n",
    "        cnt+=1\n",
    "        A = t.adjacency_matrix()\n",
    "        \n",
    "        #P = t.plot()\n",
    "        #P.show()\n",
    "        isomorphic_test(A, i, cnt)"
   ]
  },
  {
   "cell_type": "code",
   "execution_count": 22,
   "metadata": {},
   "outputs": [],
   "source": [
    "save(T, f\"data/examples_for_chris/tree_examples\")"
   ]
  },
  {
   "cell_type": "code",
   "execution_count": 23,
   "metadata": {},
   "outputs": [],
   "source": [
    "T2 = load(f\"data/examples_for_chris/tree_examples\")"
   ]
  },
  {
   "cell_type": "code",
   "execution_count": null,
   "metadata": {},
   "outputs": [],
   "source": []
  }
 ],
 "metadata": {
  "kernelspec": {
   "display_name": "SageMath 9.0",
   "language": "sage",
   "name": "sagemath"
  },
  "language_info": {
   "codemirror_mode": {
    "name": "ipython",
    "version": 3
   },
   "file_extension": ".py",
   "mimetype": "text/x-python",
   "name": "python",
   "nbconvert_exporter": "python",
   "pygments_lexer": "ipython3",
   "version": "3.8.5"
  }
 },
 "nbformat": 4,
 "nbformat_minor": 4
}
