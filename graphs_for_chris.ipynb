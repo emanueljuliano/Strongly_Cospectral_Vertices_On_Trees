{
 "cells": [
  {
   "cell_type": "code",
   "execution_count": 1,
   "metadata": {},
   "outputs": [],
   "source": [
    "from sage.graphs.trees import TreeIterator"
   ]
  },
  {
   "cell_type": "code",
   "execution_count": 2,
   "metadata": {},
   "outputs": [],
   "source": [
    "T = []"
   ]
  },
  {
   "cell_type": "code",
   "execution_count": 3,
   "metadata": {},
   "outputs": [],
   "source": [
    "def isomorphic_test(X, n, cnt):\n",
    "    phi_X = X.charpoly()\n",
    "    phi = []\n",
    "    matrices = []\n",
    "    \n",
    "    # precompute the characteristic polynomial\n",
    "    for a in range(n):\n",
    "        X_a = (X.delete_rows([a])).delete_columns([a])\n",
    "        phi.append(X_a.charpoly())   \n",
    "        matrices.append(X_a);\n",
    "            \n",
    "    # compute set of cospectral vertices with a given vertex\n",
    "    for a in range(n):\n",
    "        for b in range(a+1, n):\n",
    "            if(phi[a]!=phi[b]): continue  # a and b are not cospectral \n",
    "                \n",
    "            X_ab = X.delete_rows([a, b]).delete_columns([a, b])\n",
    "            phi_ab = X_ab.charpoly()\n",
    "\n",
    "            g = phi_X.gcd(phi_ab)\n",
    "            f = phi_X / g\n",
    "            f1 = f.derivative(x)\n",
    "\n",
    "            val = f.gcd(f1)\n",
    "\n",
    "            if val.derivative() != 0: continue  # a and b are not parallel\n",
    "            \n",
    "            G_a = Graph(matrices[a])\n",
    "            G_b = Graph(matrices[b])\n",
    "            \n",
    "            if(G_a.is_isomorphic(G_b)): continue  # G\\a ~ G\\b\n",
    "\n",
    "            # Verify if phi(T1) / phi(T1 + a) = phi(T2) / phi(T2 + b)            \n",
    "            G = Graph(X)\n",
    "                \n",
    "            not_in_T1a = []\n",
    "            for c in range(n):\n",
    "                if (G.distance(a, c) > G.distance(b, c) or G.distance(b, c) < G.distance(b, a)):\n",
    "                    not_in_T1a.append(c)\n",
    "            T1a = X.delete_rows(not_in_T1a).delete_columns(not_in_T1a)\n",
    "\n",
    "            not_in_T2b = []\n",
    "            for c in range(n):\n",
    "                if (G.distance(b, c) > G.distance(a, c) or G.distance(a, c) < G.distance(a, b)):\n",
    "                    not_in_T2b.append(c)\n",
    "            T2b = X.delete_rows(not_in_T2b).delete_columns(not_in_T2b)\n",
    "            \n",
    "            T1 = X.delete_rows(not_in_T1a + [a]).delete_columns(not_in_T1a + [a])\n",
    "            T2 = X.delete_rows(not_in_T2b + [b]).delete_columns(not_in_T2b + [b])\n",
    "            \n",
    "            equal_ratio = False\n",
    "            if (T1.charpoly() * T2b.charpoly() == T2.charpoly() * T1a.charpoly()):\n",
    "                equal_ratio = True\n",
    "            \n",
    "            # Save things \n",
    "            print(f\"At graph {cnt}, G\\\\{a} is not isomorphic to G\\\\{b}, ratio satisfied = {equal_ratio}\")\n",
    "            \n",
    "            T.append((Graph(X), a, b, equal_ratio))\n",
    "\n",
    "            '''\n",
    "            if not equal_ratio:\n",
    "                P = Graph(X).plot(title=f'Vertices {a} and {b} are strongly cospectral')\n",
    "                P.save(f\"data/examples_for_chris/tree_{len(T)}_vts_{n}.png\")\n",
    "            else:\n",
    "                P = Graph(X).plot(title=f'Equal Ratio phi(T1) / phi(T1 + a) = phi(T2) / phi(T2 + b) - Vertices {a} and {b} are strongly cospectral')\n",
    "                P.save(f\"data/examples_for_chris/equal_ratio_tree_{len(T)}_vts_{n}.png\")                \n",
    "            '''"
   ]
  },
  {
   "cell_type": "code",
   "execution_count": 4,
   "metadata": {},
   "outputs": [],
   "source": [
    "def support(X, a):\n",
    "    eps = 1e-8\n",
    "    eig = X.eigenvalues()\n",
    "    X_a = (X.delete_rows([a])).delete_columns([a])\n",
    "    eig_a = X_a.eigenvalues()\n",
    "    #print(eig_a)\n",
    "    D = dict()\n",
    "    for i in range(len(eig)):\n",
    "        D[i] = [0, 0]\n",
    "        for j in range(len(eig)):\n",
    "            if (abs(eig[i] - eig[j]) < eps):\n",
    "                D[j][0] += 1\n",
    "                break\n",
    "    for i in range(len(eig_a)):\n",
    "        for j in range(len(eig)):\n",
    "            if (abs(eig_a[i] - eig[j]) < eps):\n",
    "                D[j][1] += 1\n",
    "                break\n",
    "  \n",
    "    #print(D)\n",
    "    supp = []\n",
    "    for key, val in D.items():\n",
    "        if val[0] > val[1]:\n",
    "            supp.append(eig[key])\n",
    "    return supp"
   ]
  },
  {
   "cell_type": "code",
   "execution_count": 47,
   "metadata": {},
   "outputs": [
    {
     "name": "stdout",
     "output_type": "stream",
     "text": [
      "Trying graphs with 9 vertices\n",
      "At graph 3, G\\1 is not isomorphic to G\\6, ratio satisfied = False\n",
      "Trying graphs with 10 vertices\n",
      "Trying graphs with 11 vertices\n",
      "At graph 40, G\\1 is not isomorphic to G\\7, ratio satisfied = False\n",
      "Trying graphs with 12 vertices\n",
      "At graph 5, G\\4 is not isomorphic to G\\7, ratio satisfied = False\n",
      "At graph 61, G\\1 is not isomorphic to G\\10, ratio satisfied = False\n",
      "At graph 101, G\\0 is not isomorphic to G\\3, ratio satisfied = False\n",
      "At graph 331, G\\0 is not isomorphic to G\\1, ratio satisfied = True\n",
      "Trying graphs with 13 vertices\n",
      "At graph 36, G\\4 is not isomorphic to G\\8, ratio satisfied = False\n",
      "At graph 43, G\\1 is not isomorphic to G\\9, ratio satisfied = False\n",
      "At graph 220, G\\0 is not isomorphic to G\\2, ratio satisfied = True\n",
      "At graph 414, G\\2 is not isomorphic to G\\7, ratio satisfied = False\n",
      "At graph 414, G\\3 is not isomorphic to G\\11, ratio satisfied = True\n",
      "At graph 414, G\\4 is not isomorphic to G\\12, ratio satisfied = True\n",
      "At graph 531, G\\1 is not isomorphic to G\\8, ratio satisfied = False\n",
      "At graph 658, G\\1 is not isomorphic to G\\6, ratio satisfied = False\n",
      "Trying graphs with 14 vertices\n",
      "At graph 72, G\\2 is not isomorphic to G\\10, ratio satisfied = False\n",
      "At graph 180, G\\4 is not isomorphic to G\\9, ratio satisfied = False\n",
      "At graph 238, G\\0 is not isomorphic to G\\3, ratio satisfied = False\n",
      "At graph 239, G\\3 is not isomorphic to G\\8, ratio satisfied = False\n",
      "At graph 462, G\\2 is not isomorphic to G\\8, ratio satisfied = False\n",
      "At graph 771, G\\0 is not isomorphic to G\\1, ratio satisfied = True\n",
      "At graph 771, G\\2 is not isomorphic to G\\7, ratio satisfied = True\n",
      "At graph 1138, G\\1 is not isomorphic to G\\9, ratio satisfied = False\n",
      "At graph 1552, G\\1 is not isomorphic to G\\8, ratio satisfied = True\n",
      "At graph 2531, G\\0 is not isomorphic to G\\1, ratio satisfied = True\n",
      "Trying graphs with 15 vertices\n",
      "At graph 27, G\\1 is not isomorphic to G\\11, ratio satisfied = False\n",
      "At graph 276, G\\2 is not isomorphic to G\\10, ratio satisfied = False\n",
      "At graph 337, G\\4 is not isomorphic to G\\9, ratio satisfied = False\n",
      "At graph 367, G\\0 is not isomorphic to G\\2, ratio satisfied = True\n",
      "At graph 367, G\\3 is not isomorphic to G\\8, ratio satisfied = True\n",
      "At graph 385, G\\0 is not isomorphic to G\\7, ratio satisfied = False\n",
      "At graph 872, G\\4 is not isomorphic to G\\10, ratio satisfied = False\n",
      "At graph 877, G\\4 is not isomorphic to G\\10, ratio satisfied = False\n",
      "At graph 895, G\\1 is not isomorphic to G\\10, ratio satisfied = False\n",
      "At graph 1207, G\\2 is not isomorphic to G\\8, ratio satisfied = False\n",
      "At graph 1282, G\\0 is not isomorphic to G\\9, ratio satisfied = False\n",
      "At graph 2229, G\\1 is not isomorphic to G\\13, ratio satisfied = False\n",
      "At graph 2458, G\\1 is not isomorphic to G\\12, ratio satisfied = False\n",
      "At graph 2459, G\\6 is not isomorphic to G\\12, ratio satisfied = True\n",
      "At graph 2459, G\\7 is not isomorphic to G\\13, ratio satisfied = True\n",
      "At graph 2617, G\\0 is not isomorphic to G\\2, ratio satisfied = True\n",
      "At graph 2690, G\\2 is not isomorphic to G\\8, ratio satisfied = False\n",
      "At graph 2936, G\\2 is not isomorphic to G\\9, ratio satisfied = False\n",
      "At graph 3942, G\\0 is not isomorphic to G\\3, ratio satisfied = False\n",
      "At graph 4005, G\\2 is not isomorphic to G\\8, ratio satisfied = False\n",
      "At graph 4005, G\\3 is not isomorphic to G\\12, ratio satisfied = True\n",
      "At graph 4005, G\\4 is not isomorphic to G\\13, ratio satisfied = True\n",
      "At graph 4697, G\\1 is not isomorphic to G\\8, ratio satisfied = True\n",
      "At graph 4698, G\\1 is not isomorphic to G\\8, ratio satisfied = True\n",
      "At graph 4972, G\\1 is not isomorphic to G\\9, ratio satisfied = False\n",
      "At graph 5188, G\\1 is not isomorphic to G\\7, ratio satisfied = False\n",
      "Trying graphs with 16 vertices\n",
      "At graph 214, G\\3 is not isomorphic to G\\10, ratio satisfied = False\n",
      "At graph 290, G\\1 is not isomorphic to G\\11, ratio satisfied = False\n",
      "At graph 565, G\\7 is not isomorphic to G\\15, ratio satisfied = True\n",
      "At graph 597, G\\3 is not isomorphic to G\\10, ratio satisfied = False\n",
      "At graph 811, G\\1 is not isomorphic to G\\8, ratio satisfied = False\n",
      "At graph 1140, G\\3 is not isomorphic to G\\9, ratio satisfied = False\n",
      "At graph 1166, G\\3 is not isomorphic to G\\8, ratio satisfied = False\n",
      "At graph 1449, G\\4 is not isomorphic to G\\10, ratio satisfied = False\n",
      "At graph 1490, G\\0 is not isomorphic to G\\1, ratio satisfied = True\n",
      "At graph 1490, G\\2 is not isomorphic to G\\8, ratio satisfied = True\n",
      "At graph 1490, G\\3 is not isomorphic to G\\9, ratio satisfied = True\n",
      "At graph 1645, G\\2 is not isomorphic to G\\11, ratio satisfied = False\n",
      "At graph 1645, G\\7 is not isomorphic to G\\12, ratio satisfied = True\n",
      "At graph 1645, G\\8 is not isomorphic to G\\13, ratio satisfied = True\n",
      "At graph 1698, G\\2 is not isomorphic to G\\11, ratio satisfied = False\n",
      "At graph 1897, G\\3 is not isomorphic to G\\11, ratio satisfied = False\n",
      "At graph 2679, G\\2 is not isomorphic to G\\8, ratio satisfied = False\n",
      "At graph 2953, G\\4 is not isomorphic to G\\8, ratio satisfied = False\n",
      "At graph 3038, G\\0 is not isomorphic to G\\3, ratio satisfied = False\n",
      "At graph 3044, G\\3 is not isomorphic to G\\9, ratio satisfied = False\n",
      "At graph 3044, G\\6 is not isomorphic to G\\15, ratio satisfied = True\n",
      "At graph 3187, G\\7 is not isomorphic to G\\13, ratio satisfied = True\n",
      "At graph 3293, G\\4 is not isomorphic to G\\11, ratio satisfied = False\n",
      "At graph 3299, G\\4 is not isomorphic to G\\11, ratio satisfied = False\n",
      "At graph 3305, G\\4 is not isomorphic to G\\11, ratio satisfied = False\n",
      "At graph 3344, G\\4 is not isomorphic to G\\11, ratio satisfied = False\n",
      "At graph 3823, G\\2 is not isomorphic to G\\10, ratio satisfied = True\n",
      "At graph 4616, G\\2 is not isomorphic to G\\9, ratio satisfied = False\n",
      "At graph 7353, G\\2 is not isomorphic to G\\7, ratio satisfied = False\n",
      "At graph 7676, G\\1 is not isomorphic to G\\11, ratio satisfied = False\n",
      "At graph 7817, G\\0 is not isomorphic to G\\6, ratio satisfied = False\n",
      "At graph 8293, G\\0 is not isomorphic to G\\1, ratio satisfied = True\n",
      "At graph 8293, G\\2 is not isomorphic to G\\8, ratio satisfied = True\n",
      "At graph 8354, G\\0 is not isomorphic to G\\3, ratio satisfied = False\n",
      "At graph 8624, G\\0 is not isomorphic to G\\1, ratio satisfied = True\n",
      "At graph 8624, G\\2 is not isomorphic to G\\8, ratio satisfied = True\n",
      "At graph 8624, G\\7 is not isomorphic to G\\15, ratio satisfied = True\n",
      "At graph 9341, G\\1 is not isomorphic to G\\9, ratio satisfied = False\n",
      "At graph 9341, G\\6 is not isomorphic to G\\10, ratio satisfied = True\n",
      "At graph 9341, G\\7 is not isomorphic to G\\11, ratio satisfied = True\n",
      "At graph 9556, G\\1 is not isomorphic to G\\12, ratio satisfied = False\n",
      "At graph 10964, G\\1 is not isomorphic to G\\10, ratio satisfied = False\n",
      "At graph 10964, G\\7 is not isomorphic to G\\11, ratio satisfied = True\n",
      "At graph 10964, G\\8 is not isomorphic to G\\12, ratio satisfied = True\n",
      "At graph 11042, G\\1 is not isomorphic to G\\10, ratio satisfied = False\n",
      "At graph 11146, G\\0 is not isomorphic to G\\1, ratio satisfied = True\n",
      "At graph 13420, G\\1 is not isomorphic to G\\9, ratio satisfied = True\n",
      "At graph 13497, G\\1 is not isomorphic to G\\8, ratio satisfied = True\n",
      "At graph 13498, G\\1 is not isomorphic to G\\8, ratio satisfied = True\n",
      "At graph 13499, G\\1 is not isomorphic to G\\8, ratio satisfied = True\n",
      "At graph 13500, G\\1 is not isomorphic to G\\8, ratio satisfied = True\n",
      "At graph 16707, G\\0 is not isomorphic to G\\1, ratio satisfied = True\n",
      "At graph 17418, G\\0 is not isomorphic to G\\1, ratio satisfied = True\n",
      "At graph 17418, G\\5 is not isomorphic to G\\14, ratio satisfied = True\n",
      "At graph 17418, G\\6 is not isomorphic to G\\15, ratio satisfied = True\n",
      "At graph 17674, G\\0 is not isomorphic to G\\1, ratio satisfied = True\n"
     ]
    }
   ],
   "source": [
    "n = 9\n",
    "r = 8\n",
    "T = []\n",
    "for i in range(n, n+r):\n",
    "    print(f\"Trying graphs with {i} vertices\")\n",
    "    cnt = 0\n",
    "    for t in TreeIterator(i):\n",
    "        cnt+=1\n",
    "        A = t.adjacency_matrix()\n",
    "        \n",
    "        #P = t.plot()\n",
    "        #P.show()\n",
    "        isomorphic_test(A, i, cnt)"
   ]
  },
  {
   "cell_type": "code",
   "execution_count": 49,
   "metadata": {},
   "outputs": [],
   "source": [
    "save(T, f\"data/examples_for_chris/tree_examples\")"
   ]
  },
  {
   "cell_type": "code",
   "execution_count": 5,
   "metadata": {},
   "outputs": [],
   "source": [
    "T = load(f\"data/examples_for_chris/tree_examples\")"
   ]
  },
  {
   "cell_type": "code",
   "execution_count": 7,
   "metadata": {},
   "outputs": [
    {
     "data": {
      "image/png": "[encoded data removed]",
      "text/plain": [
       "Graphics object consisting of 18 graphics primitives"
      ]
     },
     "metadata": {},
     "output_type": "display_data"
    }
   ],
   "source": [
    "T[0][0].plot().show()"
   ]
  },
  {
   "cell_type": "code",
   "execution_count": 16,
   "metadata": {},
   "outputs": [
    {
     "name": "stdout",
     "output_type": "stream",
     "text": [
      "Near eigenvalues\n",
      "Near eigenvalues\n",
      "Near eigenvalues\n",
      "Near eigenvalues\n",
      "Near eigenvalues\n",
      "Near eigenvalues\n",
      "Near eigenvalues\n",
      "Near eigenvalues\n",
      "Near eigenvalues\n",
      "Near eigenvalues\n",
      "Near eigenvalues\n",
      "Near eigenvalues\n",
      "Near eigenvalues\n",
      "Near eigenvalues\n",
      "Near eigenvalues\n",
      "Near eigenvalues\n",
      "Near eigenvalues\n",
      "Near eigenvalues\n",
      "Near eigenvalues\n",
      "Near eigenvalues\n",
      "Near eigenvalues\n",
      "Near eigenvalues\n",
      "Near eigenvalues\n",
      "Near eigenvalues\n",
      "Near eigenvalues\n",
      "Near eigenvalues\n",
      "Near eigenvalues\n",
      "Near eigenvalues\n",
      "Near eigenvalues\n",
      "Near eigenvalues\n",
      "Near eigenvalues\n",
      "Near eigenvalues\n",
      "Near eigenvalues\n",
      "Near eigenvalues\n",
      "Near eigenvalues\n",
      "Near eigenvalues\n",
      "Near eigenvalues\n",
      "Near eigenvalues\n",
      "Near eigenvalues\n",
      "Near eigenvalues\n",
      "Near eigenvalues\n",
      "Near eigenvalues\n",
      "Near eigenvalues\n",
      "Near eigenvalues\n",
      "Near eigenvalues\n",
      "Near eigenvalues\n",
      "Near eigenvalues\n",
      "Near eigenvalues\n",
      "Near eigenvalues\n",
      "Near eigenvalues\n",
      "Near eigenvalues\n",
      "Near eigenvalues\n",
      "Near eigenvalues\n",
      "Near eigenvalues\n",
      "Near eigenvalues\n",
      "Near eigenvalues\n",
      "Near eigenvalues\n",
      "Near eigenvalues\n",
      "Near eigenvalues\n",
      "Near eigenvalues\n",
      "Near eigenvalues\n",
      "Near eigenvalues\n",
      "Near eigenvalues\n",
      "Near eigenvalues\n",
      "Near eigenvalues\n",
      "Near eigenvalues\n",
      "Near eigenvalues\n",
      "Near eigenvalues\n",
      "Near eigenvalues\n",
      "Near eigenvalues\n",
      "Near eigenvalues\n",
      "Near eigenvalues\n",
      "Near eigenvalues\n",
      "Near eigenvalues\n",
      "Near eigenvalues\n",
      "Near eigenvalues\n",
      "Near eigenvalues\n",
      "Near eigenvalues\n",
      "Near eigenvalues\n",
      "Near eigenvalues\n",
      "Near eigenvalues\n",
      "Near eigenvalues\n",
      "Near eigenvalues\n",
      "Near eigenvalues\n",
      "Near eigenvalues\n",
      "Near eigenvalues\n",
      "Near eigenvalues\n",
      "Near eigenvalues\n",
      "Near eigenvalues\n",
      "Near eigenvalues\n",
      "Near eigenvalues\n",
      "Near eigenvalues\n",
      "Near eigenvalues\n",
      "Near eigenvalues\n",
      "Near eigenvalues\n",
      "Near eigenvalues\n",
      "Near eigenvalues\n",
      "Near eigenvalues\n",
      "Near eigenvalues\n",
      "Near eigenvalues\n",
      "Near eigenvalues\n",
      "Near eigenvalues\n",
      "Near eigenvalues\n",
      "Near eigenvalues\n",
      "Near eigenvalues\n",
      "Near eigenvalues\n"
     ]
    }
   ],
   "source": [
    "for G, a, b, flag in T:\n",
    "    sup = support(G.adjacency_matrix(), a)\n",
    "    sup.sort()\n",
    "    near_eig = sup[1] - sup[0] < 1\n",
    "    if near_eig:\n",
    "        print(\"Near eigenvalues\")\n",
    "    else:\n",
    "        G.plot().show()\n",
    "        print(\"EIGENVALUES APPART\")"
   ]
  },
  {
   "cell_type": "code",
   "execution_count": 31,
   "metadata": {},
   "outputs": [
    {
     "data": {
      "text/plain": [
       "[2, -2, 0, 0, 0]"
      ]
     },
     "execution_count": 31,
     "metadata": {},
     "output_type": "execute_result"
    }
   ],
   "source": [
    "G = Graph({0:[1, 2, 3, 4]})\n",
    "X = G.adjacency_matrix()\n",
    "X.eigenvalues()"
   ]
  },
  {
   "cell_type": "code",
   "execution_count": 36,
   "metadata": {},
   "outputs": [
    {
     "name": "stdout",
     "output_type": "stream",
     "text": [
      "[0, 0, 0, 0]\n",
      "{0: [1, 0], 1: [1, 0], 2: [3, 4], 3: [0, 0], 4: [0, 0]}\n"
     ]
    },
    {
     "data": {
      "text/plain": [
       "[2, -2]"
      ]
     },
     "execution_count": 36,
     "metadata": {},
     "output_type": "execute_result"
    }
   ],
   "source": [
    "support(X, 0)"
   ]
  },
  {
   "cell_type": "code",
   "execution_count": 30,
   "metadata": {},
   "outputs": [
    {
     "data": {
      "text/plain": [
       "[0 1 1 1 1]\n",
       "[1 0 0 0 0]\n",
       "[1 0 0 0 0]\n",
       "[1 0 0 0 0]\n",
       "[1 0 0 0 0]"
      ]
     },
     "execution_count": 30,
     "metadata": {},
     "output_type": "execute_result"
    }
   ],
   "source": [
    "X"
   ]
  },
  {
   "cell_type": "code",
   "execution_count": 15,
   "metadata": {},
   "outputs": [
    {
     "data": {
      "text/plain": [
       "[0, -2.449489742783178?, 2.449489742783178?]"
      ]
     },
     "execution_count": 15,
     "metadata": {},
     "output_type": "execute_result"
    }
   ],
   "source": [
    "G = Graph({0:[1, 2, 3, 4, 5, 6]})\n",
    "\n",
    "support(G.adjacency_matrix(), 1)"
   ]
  },
  {
   "cell_type": "code",
   "execution_count": 10,
   "metadata": {},
   "outputs": [
    {
     "data": {
      "image/png": "[encoded data removed]",
      "text/plain": [
       "Graph on 16 vertices"
      ]
     },
     "execution_count": 10,
     "metadata": {},
     "output_type": "execute_result"
    }
   ],
   "source": [
    "G"
   ]
  },
  {
   "cell_type": "code",
   "execution_count": 17,
   "metadata": {},
   "outputs": [
    {
     "data": {
      "text/plain": [
       "[1,\n",
       " -1,\n",
       " -1.866198262509023?,\n",
       " 1.210755880959192?,\n",
       " 2.655442381549831?,\n",
       " -2.655442381549831?,\n",
       " -1.210755880959192?,\n",
       " 1.866198262509023?]"
      ]
     },
     "execution_count": 17,
     "metadata": {},
     "output_type": "execute_result"
    }
   ],
   "source": [
    "support(G.adjacency_matrix(), 1)"
   ]
  },
  {
   "cell_type": "code",
   "execution_count": null,
   "metadata": {},
   "outputs": [],
   "source": []
  }
 ],
 "metadata": {
  "kernelspec": {
   "display_name": "SageMath 9.0",
   "language": "sage",
   "name": "sagemath"
  },
  "language_info": {
   "codemirror_mode": {
    "name": "ipython",
    "version": 3
   },
   "file_extension": ".py",
   "mimetype": "text/x-python",
   "name": "python",
   "nbconvert_exporter": "python",
   "pygments_lexer": "ipython3",
   "version": "3.8.10"
  }
 },
 "nbformat": 4,
 "nbformat_minor": 4
}
