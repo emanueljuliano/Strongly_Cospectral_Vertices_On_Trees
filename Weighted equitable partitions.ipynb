{
 "cells": [
  {
   "cell_type": "markdown",
   "id": "f7d2cb0f",
   "metadata": {},
   "source": [
    "# Weighted equitable partitions and graph algorithms"
   ]
  },
  {
   "cell_type": "markdown",
   "id": "e0097de0",
   "metadata": {},
   "source": [
    "### Weighted equitable partition\n",
    "\n",
    "A partition of the vertices $V = V_1 \\cup V_2 \\cup \\dots \\cup V_m$ is weight-equitable if the weight-intersection number $$b^{*}_{ij}(u) = \\frac{1}{\\nu_u} \\sum_{v \\in G(u)\\cap V_j} \\nu_u$$ is independent of the vertex $u$ in $V_i$"
   ]
  },
  {
   "cell_type": "markdown",
   "id": "ae031f59",
   "metadata": {},
   "source": [
    "### Module decomposition\n",
    "A module of a graph G is a nonempty set M ⊆ V (G) such that for any\n",
    "x, y ∈ M and z ∈ V (G) \\ M we have xz ∈ E(G) if and only if yz ∈ E(G). A module M is trivial if\n",
    "M = V (G) or |M| = 1. M is a maximal module if it is not strictly contained in any nontrivial module.\n",
    "A graph is prime if all its maximal modules are trivial. For every graph G, there exists a unique partition\n",
    "Pmax of V (G) into maximal modules M1, . . . , Ms, and this partition can be found in linear time "
   ]
  },
  {
   "cell_type": "markdown",
   "id": "8a697247",
   "metadata": {},
   "source": [
    "**Proposition**: If $G$ is regular, a module decomposition of $G$ leads to an equitable partition"
   ]
  },
  {
   "cell_type": "markdown",
   "id": "b6f36a93",
   "metadata": {},
   "source": [
    "### Conjecture: a module decomposition of a non-regular graph yelds a weighted equitable partition"
   ]
  },
  {
   "cell_type": "code",
   "execution_count": null,
   "id": "0fd1c050",
   "metadata": {},
   "outputs": [],
   "source": [
    "def is_weight_equitable(G, V):\n",
    "    n = G.order()\n",
    "    eig = max(G.eigenvectors())\n",
    "    perron = eig[1][0]\n",
    "    \n",
    "    for V_i in V:\n",
    "        for v in V_i:\n",
    "            b_list = []\n",
    "            for u in G.neighbor_iterator(v):\n",
    "                if \n",
    "            b_list.appe\n",
    "    for i in range()"
   ]
  },
  {
   "cell_type": "code",
   "execution_count": 3,
   "id": "86ad5178",
   "metadata": {},
   "outputs": [],
   "source": [
    "G = graphs.PathGraph(5)"
   ]
  },
  {
   "cell_type": "code",
   "execution_count": 4,
   "id": "999248b8",
   "metadata": {},
   "outputs": [],
   "source": [
    "eig = max(G.eigenvectors())"
   ]
  },
  {
   "cell_type": "code",
   "execution_count": 5,
   "id": "41342481",
   "metadata": {},
   "outputs": [
    {
     "data": {
      "text/plain": [
       "(1.732050807568878?, [(1, 1.732050807568878?, 2, 1.732050807568878?, 1)], 1)"
      ]
     },
     "execution_count": 5,
     "metadata": {},
     "output_type": "execute_result"
    }
   ],
   "source": [
    "eig"
   ]
  },
  {
   "cell_type": "code",
   "execution_count": 9,
   "id": "fc1f13e7",
   "metadata": {},
   "outputs": [],
   "source": [
    "perr = eig[1][0]"
   ]
  },
  {
   "cell_type": "code",
   "execution_count": null,
   "id": "713e993a",
   "metadata": {},
   "outputs": [],
   "source": []
  }
 ],
 "metadata": {
  "kernelspec": {
   "display_name": "SageMath 9.0",
   "language": "sage",
   "name": "sagemath"
  },
  "language_info": {
   "codemirror_mode": {
    "name": "ipython",
    "version": 3
   },
   "file_extension": ".py",
   "mimetype": "text/x-python",
   "name": "python",
   "nbconvert_exporter": "python",
   "pygments_lexer": "ipython3",
   "version": "3.8.10"
  }
 },
 "nbformat": 4,
 "nbformat_minor": 5
}
