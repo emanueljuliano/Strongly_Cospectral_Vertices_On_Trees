{
 "cells": [
  {
   "cell_type": "code",
   "execution_count": 9,
   "id": "3d6b8b71",
   "metadata": {},
   "outputs": [
    {
     "name": "stderr",
     "output_type": "stream",
     "text": [
      "<>:1: DeprecationWarning: invalid escape sequence \\}\n",
      "<>:1: DeprecationWarning: invalid escape sequence \\}\n",
      "<ipython-input-9-2698fb1312d9>:1: DeprecationWarning: invalid escape sequence \\}\n",
      "  Graph(\"_JCPIKgQJ_PF`qb?OIKDBV~k~}w~~f^}F~vBf~k~^mw\\}|`~M{L|N{q~\\maflvqP|]|HNz\\yG~}ZuEFu^heC\").is_connected()\n"
     ]
    },
    {
     "data": {
      "text/plain": [
       "True"
      ]
     },
     "execution_count": 9,
     "metadata": {},
     "output_type": "execute_result"
    }
   ],
   "source": [
    "Graph(\"O}ambWqYOqAdrCAz?VGc\\\\\").is_connected()"
   ]
  },
  {
   "cell_type": "code",
   "execution_count": 47,
   "id": "16914a58",
   "metadata": {},
   "outputs": [
    {
     "name": "stdout",
     "output_type": "stream",
     "text": [
      "False\n",
      "False\n",
      "False\n",
      "False\n",
      "False\n",
      "False\n",
      "False\n",
      "False\n",
      "False\n",
      "False\n",
      "False\n",
      "False\n",
      "False\n",
      "False\n",
      "False\n",
      "False\n"
     ]
    }
   ],
   "source": [
    "with open(\"examples_with_32_vertices.txt\", \"r\") as file:\n",
    "    for line in file:\n",
    "        if len(line)>1:\n",
    "            print(Graph(line).is_regular())"
   ]
  },
  {
   "cell_type": "code",
   "execution_count": 46,
   "id": "da2d3be8",
   "metadata": {},
   "outputs": [
    {
     "name": "stdout",
     "output_type": "stream",
     "text": [
      "False\n",
      "False\n",
      "False\n",
      "False\n",
      "False\n",
      "False\n",
      "False\n",
      "False\n",
      "False\n",
      "False\n",
      "False\n",
      "False\n",
      "False\n",
      "False\n",
      "False\n",
      "False\n"
     ]
    }
   ],
   "source": [
    "with open(\"examples_with_64_vertices_short.txt\", \"r\") as file:\n",
    "    for line in file:\n",
    "        if len(line)>1:\n",
    "            print(Graph(line).is_regular())"
   ]
  },
  {
   "cell_type": "code",
   "execution_count": 17,
   "id": "06ccf2c9",
   "metadata": {},
   "outputs": [],
   "source": [
    "import numpy as np\n",
    "M = np.zeros((4, 4))"
   ]
  },
  {
   "cell_type": "code",
   "execution_count": 18,
   "id": "7f7d4f02",
   "metadata": {},
   "outputs": [
    {
     "data": {
      "text/plain": [
       "array([[0., 0., 0., 0.],\n",
       "       [0., 0., 0., 0.],\n",
       "       [0., 0., 0., 0.],\n",
       "       [0., 0., 0., 0.]])"
      ]
     },
     "execution_count": 18,
     "metadata": {},
     "output_type": "execute_result"
    }
   ],
   "source": [
    "M"
   ]
  },
  {
   "cell_type": "code",
   "execution_count": 19,
   "id": "0d5ffe14",
   "metadata": {},
   "outputs": [],
   "source": [
    "for i in range(4):\n",
    "    M[i, i] = 1\n",
    "    if i+1 < 4:\n",
    "        M[i, i+1] = 1"
   ]
  },
  {
   "cell_type": "code",
   "execution_count": 20,
   "id": "3b3dcd0a",
   "metadata": {},
   "outputs": [
    {
     "data": {
      "text/plain": [
       "array([[1., 1., 0., 0.],\n",
       "       [0., 1., 1., 0.],\n",
       "       [0., 0., 1., 1.],\n",
       "       [0., 0., 0., 1.]])"
      ]
     },
     "execution_count": 20,
     "metadata": {},
     "output_type": "execute_result"
    }
   ],
   "source": [
    "M"
   ]
  },
  {
   "cell_type": "code",
   "execution_count": 45,
   "id": "fdd7de6b",
   "metadata": {},
   "outputs": [
    {
     "name": "stdout",
     "output_type": "stream",
     "text": [
      "[[1. 0. 1. 0.]\n",
      " [0. 1. 0. 1.]\n",
      " [0. 0. 1. 0.]\n",
      " [0. 0. 0. 1.]]\n",
      "[[1. 1. 1. 1.]\n",
      " [0. 1. 1. 1.]\n",
      " [0. 0. 1. 1.]\n",
      " [0. 0. 0. 1.]]\n",
      "[[1. 0. 0. 0.]\n",
      " [0. 1. 0. 0.]\n",
      " [0. 0. 1. 0.]\n",
      " [0. 0. 0. 1.]]\n",
      "[[1. 1. 0. 0.]\n",
      " [0. 1. 1. 0.]\n",
      " [0. 0. 1. 1.]\n",
      " [0. 0. 0. 1.]]\n",
      "[[1. 0. 1. 0.]\n",
      " [0. 1. 0. 1.]\n",
      " [0. 0. 1. 0.]\n",
      " [0. 0. 0. 1.]]\n",
      "[[1. 1. 1. 1.]\n",
      " [0. 1. 1. 1.]\n",
      " [0. 0. 1. 1.]\n",
      " [0. 0. 0. 1.]]\n"
     ]
    }
   ],
   "source": [
    "M2 = M\n",
    "for i in range(6):\n",
    "    M2 = M2@M\n",
    "    for r in range(4):\n",
    "        for c in range(4):\n",
    "            M2[r,c] = M2[r,c]%2\n",
    "    print(M2)"
   ]
  },
  {
   "cell_type": "code",
   "execution_count": 44,
   "id": "ec9c302e",
   "metadata": {},
   "outputs": [
    {
     "data": {
      "text/plain": [
       "array([[1., 1., 1., 1.],\n",
       "       [0., 1., 1., 1.],\n",
       "       [0., 0., 1., 1.],\n",
       "       [0., 0., 0., 1.]])"
      ]
     },
     "execution_count": 44,
     "metadata": {},
     "output_type": "execute_result"
    }
   ],
   "source": [
    "M2"
   ]
  },
  {
   "cell_type": "code",
   "execution_count": null,
   "id": "288f6f2d",
   "metadata": {},
   "outputs": [],
   "source": []
  }
 ],
 "metadata": {
  "kernelspec": {
   "display_name": "SageMath 9.0",
   "language": "sage",
   "name": "sagemath"
  },
  "language_info": {
   "codemirror_mode": {
    "name": "ipython",
    "version": 3
   },
   "file_extension": ".py",
   "mimetype": "text/x-python",
   "name": "python",
   "nbconvert_exporter": "python",
   "pygments_lexer": "ipython3",
   "version": "3.8.10"
  }
 },
 "nbformat": 4,
 "nbformat_minor": 5
}
