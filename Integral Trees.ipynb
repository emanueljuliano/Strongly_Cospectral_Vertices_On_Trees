{
 "cells": [
  {
   "cell_type": "markdown",
   "id": "da47ceae",
   "metadata": {},
   "source": [
    "## A tree is integral if it's eigenvalues are integers"
   ]
  },
  {
   "cell_type": "markdown",
   "id": "003f41e1",
   "metadata": {},
   "source": [
    "#### We know that if a tree T has a path $P_n$ with $n >= 8$ then it must have at least 4 eigenvalues in the interval $(-2, 2)$. https://arxiv.org/pdf/2305.09406.pdf\n",
    "\n",
    "#### Can we reduce the bound for n?"
   ]
  },
  {
   "cell_type": "code",
   "execution_count": 7,
   "id": "bdffcd1e",
   "metadata": {},
   "outputs": [
    {
     "name": "stdout",
     "output_type": "stream",
     "text": [
      "Trying graphs with 6 vertices\n",
      "Trying graphs with 7 vertices\n",
      "Trying graphs with 8 vertices\n",
      "Trying graphs with 9 vertices\n",
      "Trying graphs with 10 vertices\n",
      "Trying graphs with 11 vertices\n",
      "NEW MAX: 2\n",
      "{0.0, 1.126032500610496, 2.1753277471610746, 1.9999999999999998, -1.1260325006104939, -2.175327747161076, -1.9999999999999998}\n"
     ]
    },
    {
     "data": {
      "image/png": "[encoded data removed]",
      "text/plain": [
       "Graphics object consisting of 22 graphics primitives"
      ]
     },
     "metadata": {},
     "output_type": "display_data"
    },
    {
     "name": "stdout",
     "output_type": "stream",
     "text": [
      "Trying graphs with 12 vertices\n",
      "Trying graphs with 13 vertices\n",
      "Trying graphs with 14 vertices\n",
      "Trying graphs with 15 vertices\n",
      "Trying graphs with 16 vertices\n",
      "Trying graphs with 17 vertices\n",
      "Trying graphs with 18 vertices\n",
      "Trying graphs with 19 vertices\n",
      "Trying graphs with 20 vertices\n"
     ]
    }
   ],
   "source": [
    "from sage.graphs.trees import TreeIterator\n",
    "import numpy as np\n",
    "\n",
    "eps = 1e-6\n",
    "\n",
    "n = 6\n",
    "r = 15\n",
    "maxi = 0\n",
    "T = []\n",
    "for sz in range(n, n+r):\n",
    "    print(f\"Trying graphs with {sz} vertices\")\n",
    "    cnt = 0\n",
    "    for t in TreeIterator(sz):\n",
    "        if not t.is_connected():\n",
    "            continue\n",
    "            \n",
    "        cnt+=1\n",
    "        \n",
    "        dg2_vtx = []\n",
    "        for i in range(sz):\n",
    "            if t.degree(i) == 2:\n",
    "                dg2_vtx.append(i)\n",
    "        \n",
    "        t2 = t.subgraph(dg2_vtx)\n",
    "        \n",
    "        candidate = False\n",
    "        new_maxi = 0\n",
    "        for c in t2.connected_components_subgraphs():\n",
    "            if c.size() > maxi:\n",
    "                new_maxi = max(new_maxi, c.size())\n",
    "                candidate = True\n",
    "    \n",
    "        if not candidate: continue\n",
    "        \n",
    "        eigv = set(np.linalg.eig(t.adjacency_matrix())[0])\n",
    "        eig_cnt = 0\n",
    "        \n",
    "        for e in eigv:\n",
    "            if -2 + eps < e and e < 2 - eps:\n",
    "                eig_cnt += 1\n",
    "        \n",
    "        if eig_cnt <= 3:\n",
    "            maxi = new_maxi\n",
    "            print(\"NEW MAX:\", maxi)\n",
    "            print(eigv)\n",
    "            t.plot().show()"
   ]
  },
  {
   "cell_type": "markdown",
   "id": "c301b47d",
   "metadata": {},
   "source": [
    "### Eigv: [-1.12, 0, 1.12]"
   ]
  },
  {
   "cell_type": "code",
   "execution_count": null,
   "id": "9fc75474",
   "metadata": {},
   "outputs": [],
   "source": []
  }
 ],
 "metadata": {
  "kernelspec": {
   "display_name": "SageMath 9.0",
   "language": "sage",
   "name": "sagemath"
  }
 },
 "nbformat": 4,
 "nbformat_minor": 5
}
