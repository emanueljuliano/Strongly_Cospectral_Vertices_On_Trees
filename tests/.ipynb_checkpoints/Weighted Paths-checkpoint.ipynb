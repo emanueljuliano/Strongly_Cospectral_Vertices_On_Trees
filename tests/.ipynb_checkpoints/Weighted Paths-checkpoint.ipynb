{
 "cells": [
  {
   "cell_type": "code",
   "execution_count": 1,
   "metadata": {},
   "outputs": [],
   "source": [
    "import warnings\n",
    "warnings.filterwarnings(\"ignore\")"
   ]
  },
  {
   "cell_type": "markdown",
   "metadata": {},
   "source": [
    "The goal of this code is to created weighted paths given a list of eigenvalues"
   ]
  },
  {
   "cell_type": "markdown",
   "metadata": {},
   "source": [
    "First, we calculate $p_d(x)$ by the formula:\n",
    "$$p_d(x) = \\prod_{r=0}^{d-1}(x-\\theta_r)$$\n",
    "\n",
    "The second polynomial is $p_{d-1}(x)$ whitch is calculated using the Lagrange interpolating polynomial:\n",
    "$$l_i(x) = \\prod_{i;i \\neq j}\\frac{x-\\theta_j}{\\theta_i - \\theta_j}$$\n",
    "$$p_{d-1}(x) := \\sum_{i=0}^{d-1} (-1)^i a_i l_i(x)$$\n",
    "\n",
    "Where $a_i$ is the inverse of the coefficient of the leading term of $l_i$\n",
    "\n",
    "At the end, we use the equality:\n",
    "$$p_{d-2}(t) = \\frac{1}{\\beta}(p_d(t) - (t-\\alpha)p_{d-1}(t)) $$\n",
    "\n",
    "Where the value of $\\alpha$ is unique to make $p_{d-2}$ of degree $d-2$ and the value of $\\beta$ is the inverse of the leading coeficient of $p_d(t) - (t-\\alpha)p_{d-1}(t)$"
   ]
  },
  {
   "cell_type": "code",
   "execution_count": 1,
   "metadata": {},
   "outputs": [],
   "source": [
    "def weighted_path(L):\n",
    "    L.sort(reverse=True)\n",
    "    d = len(L)\n",
    "        \n",
    "    R = PolynomialRing(QQ, 'x')\n",
    "    P = [0]*(d+1)\n",
    "    T = Matrix(RR, d)\n",
    "    \n",
    "    P[d] = 1  # Construct p_d\n",
    "    for theta in L:\n",
    "        P[d] *= x-theta\n",
    "    P[d] = P[d].full_simplify()\n",
    "   \n",
    "    P[d-1] = 0  # Construct p_{d-1}\n",
    "    for i in range(d):\n",
    "        li = 1\n",
    "        for j in range(d):\n",
    "            if(i != j):\n",
    "                li *= (x-L[j]) / (L[i] - L[j])\n",
    "        P[d-1] += (-1)**i * li\n",
    "    P[d-1] = P[d-1].full_simplify()\n",
    "    P[d-1] /= P[d-1].list()[-1]\n",
    "    \n",
    "    \n",
    "    for i in range(d-2, -1, -1):  # Iteratively constructs p_r for r<d-1\n",
    "        alpha = P[i+2].list()[-2] - P[i+1].list()[-2]\n",
    "        P[i] = P[i+2] - (x-alpha) * P[i+1]\n",
    "        P[i] = P[i].full_simplify()\n",
    "\n",
    "        a_i = alpha\n",
    "        b_i = P[i].list()[-1]\n",
    "        P[i] /= b_i\n",
    "\n",
    "        if len(P[i].list())>i+1 or b_i>=0:\n",
    "            return False\n",
    "        \n",
    "        # Insert the values at the final Matrix\n",
    "        T[i, i] = a_i\n",
    "        T[i, i+1] = sqrt(-b_i)\n",
    "        T[i+1, i] = sqrt(-b_i)\n",
    "        \n",
    "    print(\"The polynomials that generate the weighted path are:\")\n",
    "    for i in range(d+1):\n",
    "        print(f\"p_{i} = {P[i]}\")\n",
    "    \n",
    "    print(\"\\nThe adjacency matrix of the weighted path is:\")\n",
    "    print(N(T, digits=2))\n",
    "    \n",
    "    print(\"\\nThe eigenvalues of that matrix are:\")\n",
    "    L_new = []\n",
    "    for eig in T.eigenvalues():\n",
    "        L_new.append(N(eig, digits=2))\n",
    "    print(L_new)\n",
    "    \n",
    "    return True"
   ]
  },
  {
   "cell_type": "code",
   "execution_count": 4,
   "metadata": {},
   "outputs": [
    {
     "name": "stdout",
     "output_type": "stream",
     "text": [
      "The polynomials that generate the weighted path are:\n",
      "p_0 = 1\n",
      "p_1 = x\n",
      "p_2 = x^2 - 6\n",
      "p_3 = x^3 - 16*x\n",
      "p_4 = x^4 - 28*x^2 + 72\n",
      "p_5 = x^5 - 40*x^3 + 264*x\n",
      "p_6 = x^6 - 50*x^4 + 544*x^2 - 720\n",
      "p_7 = x^7 - 56*x^5 + 784*x^3 - 2304*x\n",
      "\n",
      "The adjacency matrix of the weighted path is:\n",
      "[0.00  2.4 0.00 0.00 0.00 0.00 0.00]\n",
      "[ 2.4 0.00  3.2 0.00 0.00 0.00 0.00]\n",
      "[0.00  3.2 0.00  3.5 0.00 0.00 0.00]\n",
      "[0.00 0.00  3.5 0.00  3.5 0.00 0.00]\n",
      "[0.00 0.00 0.00  3.5 0.00  3.2 0.00]\n",
      "[0.00 0.00 0.00 0.00  3.2 0.00  2.4]\n",
      "[0.00 0.00 0.00 0.00 0.00  2.4 0.00]\n",
      "\n",
      "The eigenvalues of that matrix are:\n",
      "[6.0, 4.0, 2.0, -0.00, -2.0, -4.0, -6.0]\n"
     ]
    },
    {
     "data": {
      "text/plain": [
       "True"
      ]
     },
     "execution_count": 4,
     "metadata": {},
     "output_type": "execute_result"
    }
   ],
   "source": [
    "balanced_path([6, 4, 2, 0, -2, -4, -6])"
   ]
  },
  {
   "cell_type": "code",
   "execution_count": 5,
   "metadata": {},
   "outputs": [
    {
     "data": {
      "text/plain": [
       "False"
      ]
     },
     "execution_count": 5,
     "metadata": {},
     "output_type": "execute_result"
    }
   ],
   "source": [
    "balanced_path([6, 3, 2, 1])"
   ]
  },
  {
   "cell_type": "code",
   "execution_count": 6,
   "metadata": {},
   "outputs": [
    {
     "name": "stdout",
     "output_type": "stream",
     "text": [
      "The polynomials that generate the weighted path are:\n",
      "p_0 = 1\n",
      "p_1 = x\n",
      "p_2 = x^2 - 24\n",
      "p_3 = x^3 - 44*x\n",
      "p_4 = x^4 - 60*x^2 + 384\n",
      "p_5 = x^5 - 80*x^3 + 1264*x\n",
      "p_6 = x^6 - 104*x^4 + 2704*x^2 - 9216\n",
      "\n",
      "The adjacency matrix of the weighted path is:\n",
      "[0.00  4.9 0.00 0.00 0.00 0.00]\n",
      "[ 4.9 0.00  4.5 0.00 0.00 0.00]\n",
      "[0.00  4.5 0.00  4.0 0.00 0.00]\n",
      "[0.00 0.00  4.0 0.00  4.5 0.00]\n",
      "[0.00 0.00 0.00  4.5 0.00  4.9]\n",
      "[0.00 0.00 0.00 0.00  4.9 0.00]\n",
      "\n",
      "The eigenvalues of that matrix are:\n",
      "[8.0, 6.0, 2.0, -2.0, -6.0, -8.0]\n"
     ]
    },
    {
     "data": {
      "text/plain": [
       "True"
      ]
     },
     "execution_count": 6,
     "metadata": {},
     "output_type": "execute_result"
    }
   ],
   "source": [
    "balanced_path([8, 6, 2, -2, -6, -8])"
   ]
  },
  {
   "cell_type": "code",
   "execution_count": null,
   "metadata": {},
   "outputs": [],
   "source": []
  }
 ],
 "metadata": {
  "kernelspec": {
   "display_name": "SageMath 9.1",
   "language": "sage",
   "name": "sagemath"
  },
  "language_info": {
   "codemirror_mode": {
    "name": "ipython",
    "version": 3
   },
   "file_extension": ".py",
   "mimetype": "text/x-python",
   "name": "python",
   "nbconvert_exporter": "python",
   "pygments_lexer": "ipython3",
   "version": "3.7.3"
  }
 },
 "nbformat": 4,
 "nbformat_minor": 2
}
