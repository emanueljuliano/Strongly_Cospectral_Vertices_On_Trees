{
 "cells": [
  {
   "cell_type": "code",
   "execution_count": 37,
   "metadata": {},
   "outputs": [],
   "source": [
    "R.<x, y, t1, ta, t2, tb, t3, tc> = PolynomialRing(QQ)"
   ]
  },
  {
   "cell_type": "code",
   "execution_count": 38,
   "metadata": {},
   "outputs": [],
   "source": [
    "x2 = x^2 -1\n",
    "x3 = x^3 - 2*x\n",
    "x4 = x^4 - 3*x^2\n",
    "t3x = tc*x2 + t3*x - x^2*tc\n",
    "t3xb = t3xa = tc*x3 + t3*x2 - x*x2*t3\n",
    "t3xab = tc*x4 + t3*x3 - x*x3*tc\n",
    "t2t3x = tb*t3xb + t2*t3x - x*tb*t3x\n",
    "t2t3xa = tb*t3xab + t2*t3xa - x*tb*t3xa\n",
    "X = ta*t2t3xa + t1*t2t3x - x*ta*t2t3x"
   ]
  },
  {
   "cell_type": "code",
   "execution_count": 39,
   "metadata": {},
   "outputs": [
    {
     "data": {
      "text/plain": [
       "2*x^4*ta*tb*t3 - 2*x^4*ta*tb*tc - x^3*ta*t2*t3 - x^3*t1*tb*t3 + x^3*ta*t2*tc + x^3*t1*tb*tc - 2*x^2*ta*tb*t3 + 2*x^2*ta*tb*tc + x*t1*t2*t3 + x*ta*t2*t3 + x*t1*tb*t3 - x*ta*t2*tc - x*t1*tb*tc - ta*t2*t3 - t1*tb*t3 - t1*t2*tc"
      ]
     },
     "execution_count": 39,
     "metadata": {},
     "output_type": "execute_result"
    }
   ],
   "source": [
    "X"
   ]
  },
  {
   "cell_type": "code",
   "execution_count": 40,
   "metadata": {},
   "outputs": [
    {
     "name": "stdout",
     "output_type": "stream",
     "text": [
      "x^2 - 1\n",
      "x^3 - 2*x\n",
      "x^4 - 3*x^2\n"
     ]
    }
   ],
   "source": [
    "d = {0:[1]}\n",
    "G = Graph(d)\n",
    "print(G.characteristic_polynomial())\n",
    "d = {0:[1, 2]}\n",
    "G = Graph(d)\n",
    "print(G.characteristic_polynomial())\n",
    "d = {0:[1, 2, 3]}\n",
    "G = Graph(d)\n",
    "print(G.characteristic_polynomial())\n"
   ]
  },
  {
   "cell_type": "code",
   "execution_count": 49,
   "metadata": {},
   "outputs": [
    {
     "data": {
      "text/plain": [
       "(2*x^4*ta*tb*t3 - 2*x^4*ta*tb*tc - x^3*ta*t2*t3 - x^3*t1*tb*t3 + x^3*ta*t2*tc + x^3*t1*tb*tc - 2*x^2*ta*tb*t3 + 2*x^2*ta*tb*tc + x*t1*t2*t3 + x*ta*t2*t3 + x*t1*tb*t3 - x*ta*t2*tc - x*t1*tb*tc - ta*t2*t3 - t1*tb*t3 - t1*t2*tc)/(x*ta*tb*tc)"
      ]
     },
     "execution_count": 49,
     "metadata": {},
     "output_type": "execute_result"
    }
   ],
   "source": [
    "X/(ta*tb*tc*x)"
   ]
  },
  {
   "cell_type": "code",
   "execution_count": 42,
   "metadata": {},
   "outputs": [],
   "source": [
    "#y = t1/ta = t2/tb = t3/tc"
   ]
  },
  {
   "cell_type": "code",
   "execution_count": 44,
   "metadata": {},
   "outputs": [],
   "source": [
    "frac = 2*x^3*y - 2*x^3 - x^2*y^2 - x^2*y^2 + x^2*y + x^2*y - 2*x*y + 2*x + y^3 + y^2 + y^2 - y - y - y^2/x - y^2/x - y^2/x "
   ]
  },
  {
   "cell_type": "code",
   "execution_count": 45,
   "metadata": {},
   "outputs": [
    {
     "data": {
      "text/plain": [
       "(2*x^4*y - 2*x^3*y^2 - 2*x^4 + 2*x^3*y + x*y^3 - 2*x^2*y + 2*x*y^2 + 2*x^2 - 2*x*y - 3*y^2)/x"
      ]
     },
     "execution_count": 45,
     "metadata": {},
     "output_type": "execute_result"
    }
   ],
   "source": [
    "frac"
   ]
  },
  {
   "cell_type": "code",
   "execution_count": null,
   "metadata": {},
   "outputs": [],
   "source": []
  }
 ],
 "metadata": {
  "kernelspec": {
   "display_name": "SageMath 9.0",
   "language": "sage",
   "name": "sagemath"
  },
  "language_info": {
   "codemirror_mode": {
    "name": "ipython",
    "version": 3
   },
   "file_extension": ".py",
   "mimetype": "text/x-python",
   "name": "python",
   "nbconvert_exporter": "python",
   "pygments_lexer": "ipython3",
   "version": "3.8.5"
  }
 },
 "nbformat": 4,
 "nbformat_minor": 4
}
