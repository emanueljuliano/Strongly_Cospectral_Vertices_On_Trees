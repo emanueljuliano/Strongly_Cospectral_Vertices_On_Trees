{
 "cells": [
  {
   "cell_type": "code",
   "execution_count": 1,
   "metadata": {},
   "outputs": [],
   "source": [
    "from sage.graphs.trees import TreeIterator"
   ]
  },
  {
   "cell_type": "code",
   "execution_count": 2,
   "metadata": {},
   "outputs": [],
   "source": [
    "def strongly_cospectral(X, n, cnt):\n",
    "    phi_X = X.charpoly()\n",
    "    phi = []\n",
    "    \n",
    "    # precompute the characteristic polynomial\n",
    "    for a in range(n):\n",
    "        X_a = (X.delete_rows([a])).delete_columns([a])\n",
    "        phi.append(X_a.charpoly())   \n",
    "    \n",
    "    # compute set of cospectral vertices with a given vertex\n",
    "    cospectral = []\n",
    "    for a in range(n):\n",
    "        cos = [a]\n",
    "        for b in range(a+1, n):\n",
    "            if(phi[a]==phi[b]):\n",
    "                cos.append(b)\n",
    "        if(len(cos)>2):\n",
    "            cospectral.append(cos)\n",
    "\n",
    "    # try to find strongly cospectral vertices\n",
    "    for cos in cospectral:\n",
    "        a = cos[0]\n",
    "        scos = [a]\n",
    "        for b in cos[1:]:\n",
    "            X_ab = X.delete_rows([a, b]).delete_columns([a, b])\n",
    "            phi_ab = X_ab.charpoly()\n",
    "\n",
    "            g = phi_X.gcd(phi_ab)\n",
    "            f = phi_X / g\n",
    "            f1 = f.derivative(x)\n",
    "\n",
    "            val = f.gcd(f1)\n",
    "\n",
    "            if val.derivative()==0:\n",
    "                scos.append(b)\n",
    "                print(f\"At graph {cnt}, vertices {a} and {b} are strongly cospectral\")\n",
    "                \n",
    "        if(len(scos)>2):\n",
    "            print(f\"3 VERTICES STRONGLY COSPECTRAL!\")\n",
    "            print(\"Graph: \")\n",
    "            print(X)\n",
    "            print(f\"Vertices: {scos[0]}, {scos[1]}, {scos[2]}\")"
   ]
  },
  {
   "cell_type": "code",
   "execution_count": 4,
   "metadata": {
    "scrolled": true
   },
   "outputs": [
    {
     "name": "stdout",
     "output_type": "stream",
     "text": [
      "Trying graphs with 64 vertices\n",
      "At graph 3, vertices 31 and 32 are strongly cospectral\n",
      "At graph 1112, vertices 30 and 31 are strongly cospectral\n",
      "At graph 1234, vertices 30 and 31 are strongly cospectral\n",
      "At graph 1356, vertices 30 and 31 are strongly cospectral\n",
      "At graph 1478, vertices 30 and 31 are strongly cospectral\n",
      "At graph 1600, vertices 30 and 31 are strongly cospectral\n",
      "At graph 1722, vertices 30 and 31 are strongly cospectral\n",
      "At graph 1844, vertices 30 and 31 are strongly cospectral\n",
      "At graph 1966, vertices 30 and 31 are strongly cospectral\n",
      "At graph 2088, vertices 30 and 31 are strongly cospectral\n",
      "At graph 2210, vertices 30 and 31 are strongly cospectral\n",
      "At graph 2332, vertices 30 and 31 are strongly cospectral\n",
      "At graph 2454, vertices 30 and 31 are strongly cospectral\n",
      "At graph 2576, vertices 30 and 31 are strongly cospectral\n",
      "At graph 2698, vertices 30 and 31 are strongly cospectral\n",
      "At graph 2760, vertices 30 and 31 are strongly cospectral\n",
      "At graph 8672, vertices 29 and 31 are strongly cospectral\n",
      "At graph 8672, vertices 30 and 32 are strongly cospectral\n",
      "At graph 8760, vertices 31 and 32 are strongly cospectral\n"
     ]
    },
    {
     "ename": "KeyboardInterrupt",
     "evalue": "",
     "output_type": "error",
     "traceback": [
      "\u001b[0;31m---------------------------------------------------------------------------\u001b[0m",
      "\u001b[0;31mKeyboardInterrupt\u001b[0m                         Traceback (most recent call last)",
      "\u001b[0;32m<ipython-input-4-b00e4a7f512c>\u001b[0m in \u001b[0;36m<module>\u001b[0;34m()\u001b[0m\n\u001b[1;32m     10\u001b[0m         \u001b[0;31m#P = t.plot()\u001b[0m\u001b[0;34m\u001b[0m\u001b[0;34m\u001b[0m\u001b[0;34m\u001b[0m\u001b[0m\n\u001b[1;32m     11\u001b[0m         \u001b[0;31m#P.show()\u001b[0m\u001b[0;34m\u001b[0m\u001b[0;34m\u001b[0m\u001b[0;34m\u001b[0m\u001b[0m\n\u001b[0;32m---> 12\u001b[0;31m         \u001b[0mstrongly_cospectral\u001b[0m\u001b[0;34m(\u001b[0m\u001b[0mA\u001b[0m\u001b[0;34m,\u001b[0m \u001b[0mi\u001b[0m\u001b[0;34m,\u001b[0m \u001b[0mcnt\u001b[0m\u001b[0;34m)\u001b[0m\u001b[0;34m\u001b[0m\u001b[0;34m\u001b[0m\u001b[0m\n\u001b[0m",
      "\u001b[0;32m<ipython-input-2-ba5135dec5c1>\u001b[0m in \u001b[0;36mstrongly_cospectral\u001b[0;34m(X, n, cnt)\u001b[0m\n\u001b[1;32m      6\u001b[0m     \u001b[0;32mfor\u001b[0m \u001b[0ma\u001b[0m \u001b[0;32min\u001b[0m \u001b[0mrange\u001b[0m\u001b[0;34m(\u001b[0m\u001b[0mn\u001b[0m\u001b[0;34m)\u001b[0m\u001b[0;34m:\u001b[0m\u001b[0;34m\u001b[0m\u001b[0;34m\u001b[0m\u001b[0m\n\u001b[1;32m      7\u001b[0m         \u001b[0mX_a\u001b[0m \u001b[0;34m=\u001b[0m \u001b[0;34m(\u001b[0m\u001b[0mX\u001b[0m\u001b[0;34m.\u001b[0m\u001b[0mdelete_rows\u001b[0m\u001b[0;34m(\u001b[0m\u001b[0;34m[\u001b[0m\u001b[0ma\u001b[0m\u001b[0;34m]\u001b[0m\u001b[0;34m)\u001b[0m\u001b[0;34m)\u001b[0m\u001b[0;34m.\u001b[0m\u001b[0mdelete_columns\u001b[0m\u001b[0;34m(\u001b[0m\u001b[0;34m[\u001b[0m\u001b[0ma\u001b[0m\u001b[0;34m]\u001b[0m\u001b[0;34m)\u001b[0m\u001b[0;34m\u001b[0m\u001b[0;34m\u001b[0m\u001b[0m\n\u001b[0;32m----> 8\u001b[0;31m         \u001b[0mphi\u001b[0m\u001b[0;34m.\u001b[0m\u001b[0mappend\u001b[0m\u001b[0;34m(\u001b[0m\u001b[0mX_a\u001b[0m\u001b[0;34m.\u001b[0m\u001b[0mcharpoly\u001b[0m\u001b[0;34m(\u001b[0m\u001b[0;34m)\u001b[0m\u001b[0;34m)\u001b[0m\u001b[0;34m\u001b[0m\u001b[0;34m\u001b[0m\u001b[0m\n\u001b[0m\u001b[1;32m      9\u001b[0m \u001b[0;34m\u001b[0m\u001b[0m\n\u001b[1;32m     10\u001b[0m     \u001b[0;31m# compute set of cospectral vertices with a given vertex\u001b[0m\u001b[0;34m\u001b[0m\u001b[0;34m\u001b[0m\u001b[0;34m\u001b[0m\u001b[0m\n",
      "\u001b[0;32m/home/emanuel/UFMG/Quantum/trees/SageMath/local/lib/python3.7/site-packages/sage/matrix/matrix_integer_dense.pyx\u001b[0m in \u001b[0;36msage.matrix.matrix_integer_dense.Matrix_integer_dense.charpoly (build/cythonized/sage/matrix/matrix_integer_dense.c:12937)\u001b[0;34m()\u001b[0m\n\u001b[1;32m   1334\u001b[0m         \u001b[0;32melif\u001b[0m \u001b[0malgorithm\u001b[0m \u001b[0;34m==\u001b[0m \u001b[0;34m'linbox'\u001b[0m\u001b[0;34m:\u001b[0m\u001b[0;34m\u001b[0m\u001b[0;34m\u001b[0m\u001b[0m\n\u001b[1;32m   1335\u001b[0m             \u001b[0mg\u001b[0m \u001b[0;34m=\u001b[0m \u001b[0;34m(\u001b[0m\u001b[0;34m<\u001b[0m\u001b[0mPolynomial_integer_dense_flint\u001b[0m\u001b[0;34m>\u001b[0m \u001b[0mPolynomialRing\u001b[0m\u001b[0;34m(\u001b[0m\u001b[0mZZ\u001b[0m\u001b[0;34m,\u001b[0m \u001b[0mnames\u001b[0m\u001b[0;34m=\u001b[0m\u001b[0mvar\u001b[0m\u001b[0;34m)\u001b[0m\u001b[0;34m.\u001b[0m\u001b[0mgen\u001b[0m\u001b[0;34m(\u001b[0m\u001b[0;34m)\u001b[0m\u001b[0;34m)\u001b[0m\u001b[0;34m.\u001b[0m\u001b[0m_new\u001b[0m\u001b[0;34m(\u001b[0m\u001b[0;34m)\u001b[0m\u001b[0;34m\u001b[0m\u001b[0;34m\u001b[0m\u001b[0m\n\u001b[0;32m-> 1336\u001b[0;31m             \u001b[0msig_on\u001b[0m\u001b[0;34m(\u001b[0m\u001b[0;34m)\u001b[0m\u001b[0;34m\u001b[0m\u001b[0;34m\u001b[0m\u001b[0m\n\u001b[0m\u001b[1;32m   1337\u001b[0m             \u001b[0mlinbox_fmpz_mat_charpoly\u001b[0m\u001b[0;34m(\u001b[0m\u001b[0mg\u001b[0m\u001b[0;34m.\u001b[0m\u001b[0m__poly\u001b[0m\u001b[0;34m,\u001b[0m \u001b[0mself\u001b[0m\u001b[0;34m.\u001b[0m\u001b[0m_matrix\u001b[0m\u001b[0;34m)\u001b[0m\u001b[0;34m\u001b[0m\u001b[0;34m\u001b[0m\u001b[0m\n\u001b[1;32m   1338\u001b[0m             \u001b[0msig_off\u001b[0m\u001b[0;34m(\u001b[0m\u001b[0;34m)\u001b[0m\u001b[0;34m\u001b[0m\u001b[0;34m\u001b[0m\u001b[0m\n",
      "\u001b[0;31mKeyboardInterrupt\u001b[0m: "
     ]
    }
   ],
   "source": [
    "n = 64\n",
    "r = 1\n",
    "for i in range(n, n+r):\n",
    "    print(f\"Trying graphs with {i} vertices\")\n",
    "    cnt = 0\n",
    "    for t in TreeIterator(i):\n",
    "        cnt+=1\n",
    "        A = t.adjacency_matrix()\n",
    "        \n",
    "        #P = t.plot()\n",
    "        #P.show()\n",
    "        strongly_cospectral(A, i, cnt)"
   ]
  },
  {
   "cell_type": "code",
   "execution_count": 4,
   "metadata": {},
   "outputs": [
    {
     "name": "stdout",
     "output_type": "stream",
     "text": [
      "Trying graphs with 23 vertices\n",
      "CPU times: user 10min 9s, sys: 85 ms, total: 10min 9s\n",
      "Wall time: 10min 9s\n"
     ]
    }
   ],
   "source": [
    "%%time\n",
    "n = 23\n",
    "r = 1\n",
    "cnt = 0\n",
    "for i in range(n, n+r):\n",
    "    print(f\"Trying graphs with {i} vertices\")\n",
    "    for t in TreeIterator(i):\n",
    "        cnt+=1\n",
    "        continue\n",
    "        A = t.adjacency_matrix()\n",
    "        \n",
    "        #P = t.plot()\n",
    "        #P.show()\n",
    "        strongly_cospectral(A, i, cnt)"
   ]
  },
  {
   "cell_type": "code",
   "execution_count": 5,
   "metadata": {},
   "outputs": [
    {
     "data": {
      "text/plain": [
       "14828074"
      ]
     },
     "execution_count": 5,
     "metadata": {},
     "output_type": "execute_result"
    }
   ],
   "source": [
    "cnt"
   ]
  },
  {
   "cell_type": "code",
   "execution_count": null,
   "metadata": {},
   "outputs": [],
   "source": []
  }
 ],
 "metadata": {
  "kernelspec": {
   "display_name": "SageMath 9.1",
   "language": "sage",
   "name": "sagemath"
  },
  "language_info": {
   "codemirror_mode": {
    "name": "ipython",
    "version": 3
   },
   "file_extension": ".py",
   "mimetype": "text/x-python",
   "name": "python",
   "nbconvert_exporter": "python",
   "pygments_lexer": "ipython3",
   "version": "3.7.3"
  }
 },
 "nbformat": 4,
 "nbformat_minor": 2
}
